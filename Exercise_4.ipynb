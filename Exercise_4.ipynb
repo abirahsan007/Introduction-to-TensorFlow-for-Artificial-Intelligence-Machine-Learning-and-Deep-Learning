{
  "nbformat": 4,
  "nbformat_minor": 0,
  "metadata": {
    "colab": {
      "name": "Exercise 4.ipynb",
      "private_outputs": true,
      "provenance": [],
      "authorship_tag": "ABX9TyP5wRg4lBMs1uQ+pY6jaMd4",
      "include_colab_link": true
    },
    "kernelspec": {
      "name": "python3",
      "display_name": "Python 3"
    }
  },
  "cells": [
    {
      "cell_type": "markdown",
      "metadata": {
        "id": "view-in-github",
        "colab_type": "text"
      },
      "source": [
        "<a href=\"https://colab.research.google.com/github/abirahsan007/Introduction-to-TensorFlow-for-Artificial-Intelligence-Machine-Learning-and-Deep-Learning/blob/main/Exercise_4.ipynb\" target=\"_parent\"><img src=\"https://colab.research.google.com/assets/colab-badge.svg\" alt=\"Open In Colab\"/></a>"
      ]
    },
    {
      "cell_type": "markdown",
      "metadata": {
        "id": "ypsI9bDD5eLM"
      },
      "source": [
        "**Exercise 4**\r\n",
        "\r\n",
        "Below is code with a link to a happy or sad dataset which contains 80 images, 40 happy and 40 sad. Create a convolutional neural network that trains to 100% accuracy on these images, which cancels training upon hitting training accuracy of >.999\r\n",
        "\r\n",
        "Hint -- it will work best with 3 convolutional layers."
      ]
    },
    {
      "cell_type": "code",
      "metadata": {
        "id": "yN85g_w_5b7P"
      },
      "source": [
        "import tensorflow as tf\r\n",
        "import os\r\n",
        "import zipfile\r\n",
        "import urllib\r\n",
        "urllib.request.urlretrieve(\"https://storage.googleapis.com/laurencemoroney-blog.appspot.com/happy-or-sad.zip\",\r\n",
        "                           filename=\"/tmp/happy-or-sad.zip\")\r\n",
        "\r\n",
        "zip_ref = zipfile.ZipFile(\"/tmp/happy-or-sad.zip\", 'r')\r\n",
        "zip_ref.extractall(\"/tmp/h-or-s\")\r\n",
        "zip_ref.close()"
      ],
      "execution_count": null,
      "outputs": []
    },
    {
      "cell_type": "code",
      "metadata": {
        "id": "AHgRvx7U5qs7"
      },
      "source": [
        "# GRADED FUNCTION: train_happy_sad_model\r\n",
        "def train_happy_sad_model():\r\n",
        "    # Please write your code only where you are indicated.\r\n",
        "    # please do not remove # model fitting inline comments.\r\n",
        "\r\n",
        "    DESIRED_ACCURACY = 0.999\r\n",
        "\r\n",
        "    class myCallback(tf.keras.callbacks.Callback):\r\n",
        "        def on_epoch_end(self, epoch, logs={}):\r\n",
        "            if(logs.get('accuracy')>DESIRED_ACCURACY):\r\n",
        "                print(\"\\nReached 100% accuracy so cancelling training!\")\r\n",
        "                self.model.stop_training = True\r\n",
        "\r\n",
        "    callbacks = myCallback()\r\n",
        "    \r\n",
        "    # This Code Block should Define and Compile the Model\r\n",
        "    model = tf.keras.models.Sequential([\r\n",
        "        tf.keras.layers.Conv2D(16, (3,3), activation='relu', input_shape=(150, 150, 3)),\r\n",
        "    tf.keras.layers.MaxPooling2D(2, 2),\r\n",
        "    # The second convolution\r\n",
        "    tf.keras.layers.Conv2D(32, (3,3), activation='relu'),\r\n",
        "    tf.keras.layers.MaxPooling2D(2,2),\r\n",
        "    # The third convolution\r\n",
        "    tf.keras.layers.Conv2D(64, (3,3), activation='relu'),\r\n",
        "    tf.keras.layers.MaxPooling2D(2,2),\r\n",
        "    # Flatten the results to feed into a DNN\r\n",
        "    tf.keras.layers.Flatten(),\r\n",
        "    # 512 neuron hidden layer\r\n",
        "    tf.keras.layers.Dense(512, activation='relu'),\r\n",
        "    # Only 1 output neuron. It will contain a value from 0-1 where 0 for 1 class ('horses') and 1 for the other ('humans')\r\n",
        "    tf.keras.layers.Dense(1, activation='sigmoid')\r\n",
        "    ])\r\n",
        "\r\n",
        "    from tensorflow.keras.optimizers import RMSprop\r\n",
        "\r\n",
        "    model.compile(loss='binary_crossentropy',\r\n",
        "              optimizer=RMSprop(lr=0.001),\r\n",
        "              metrics=['accuracy'])\r\n",
        "        \r\n",
        "\r\n",
        "    # This code block should create an instance of an ImageDataGenerator called train_datagen \r\n",
        "    # And a train_generator by calling train_datagen.flow_from_directory\r\n",
        "\r\n",
        "    from tensorflow.keras.preprocessing.image import ImageDataGenerator\r\n",
        "\r\n",
        "    train_datagen = ImageDataGenerator(rescale=1/255)\r\n",
        "\r\n",
        "    train_generator = train_datagen.flow_from_directory(\r\n",
        "        '/tmp/h-or-s/',  # This is the source directory for training images\r\n",
        "        target_size=(150, 150),  # All images will be resized to 150x150\r\n",
        "        batch_size=10,\r\n",
        "        # Since we use binary_crossentropy loss, we need binary labels\r\n",
        "        class_mode='binary')\r\n",
        "        # Your Code Here)\r\n",
        "    # Expected output: 'Found 80 images belonging to 2 classes'\r\n",
        "    # This code block should call model.fit_generator and train for\r\n",
        "    # a number of epochs.\r\n",
        "    # model fitting\r\n",
        "    history = model.fit_generator(\r\n",
        "      train_generator,\r\n",
        "      steps_per_epoch=8,  \r\n",
        "      epochs=15,\r\n",
        "      verbose=1, callbacks=[callbacks])\r\n",
        "        # Your Code Here)\r\n",
        "    # model fitting\r\n",
        "    return history.history['accuracy'][-1]"
      ],
      "execution_count": null,
      "outputs": []
    },
    {
      "cell_type": "code",
      "metadata": {
        "id": "P8dJUOE85rTT"
      },
      "source": [
        "train_happy_sad_model()"
      ],
      "execution_count": null,
      "outputs": []
    }
  ]
}