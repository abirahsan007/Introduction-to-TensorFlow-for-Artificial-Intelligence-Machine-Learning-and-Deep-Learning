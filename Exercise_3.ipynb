{
  "nbformat": 4,
  "nbformat_minor": 0,
  "metadata": {
    "colab": {
      "name": "Exercise 3.ipynb",
      "private_outputs": true,
      "provenance": [],
      "authorship_tag": "ABX9TyOd1BPrlCSV3y/Fn8v1c6g0",
      "include_colab_link": true
    },
    "kernelspec": {
      "name": "python3",
      "display_name": "Python 3"
    }
  },
  "cells": [
    {
      "cell_type": "markdown",
      "metadata": {
        "id": "view-in-github",
        "colab_type": "text"
      },
      "source": [
        "<a href=\"https://colab.research.google.com/github/abirahsan007/Introduction-to-TensorFlow-for-Artificial-Intelligence-Machine-Learning-and-Deep-Learning/blob/main/Exercise_3.ipynb\" target=\"_parent\"><img src=\"https://colab.research.google.com/assets/colab-badge.svg\" alt=\"Open In Colab\"/></a>"
      ]
    },
    {
      "cell_type": "markdown",
      "metadata": {
        "id": "9qA_bbR9y0wP"
      },
      "source": [
        "**Exercise 3**\r\n",
        "\r\n",
        "In the videos you looked at how you would improve Fashion MNIST using Convolutions. For your exercise see if you can improve MNIST to 99.8% accuracy or more using only a single convolutional layer and a single MaxPooling 2D. You should stop training once the accuracy goes above this amount. It should happen in less than 20 epochs, so it's ok to hard code the number of epochs for training, but your training must end once it hits the above metric. If it doesn't, then you'll need to redesign your layers.\r\n",
        "\r\n",
        "I've started the code for you -- you need to finish it!\r\n",
        "\r\n",
        "When 99.8% accuracy has been hit, you should print out the string \"Reached 99.8% accuracy so cancelling training!\""
      ]
    },
    {
      "cell_type": "code",
      "metadata": {
        "id": "-d5iIOqbm2Zt"
      },
      "source": [
        "import tensorflow as tf\r\n",
        "from tensorflow import keras"
      ],
      "execution_count": null,
      "outputs": []
    },
    {
      "cell_type": "code",
      "metadata": {
        "id": "2eyBQ_9ry_sL"
      },
      "source": [
        "# GRADED FUNCTION: train_mnist_conv\r\n",
        "def train_mnist_conv():\r\n",
        "    # Please write your code only where you are indicated.\r\n",
        "    # please do not remove model fitting inline comments.\r\n",
        "\r\n",
        "    # YOUR CODE STARTS HERE\r\n",
        "    class myCallback(tf.keras.callbacks.Callback):\r\n",
        "        def on_epoch_end(self, epoch, logs={}):\r\n",
        "            if(logs.get('accuracy')>0.998):\r\n",
        "                print(\"\\nReached 99.8% accuracy so cancelling training!\")\r\n",
        "                self.model.stop_training = True\r\n",
        "    \r\n",
        "    # YOUR CODE ENDS HERE\r\n",
        "\r\n",
        "    mnist = tf.keras.datasets.mnist\r\n",
        "    (training_images, training_labels), (test_images, test_labels) = mnist.load_data()\r\n",
        "    # YOUR CODE STARTS HERE\r\n",
        "    callbacks = myCallback()\r\n",
        "    \r\n",
        "    training_images=training_images.reshape(60000, 28, 28, 1)\r\n",
        "    training_images=training_images / 255.0\r\n",
        "    test_images = test_images.reshape(10000, 28, 28, 1)\r\n",
        "    test_images=test_images/255.0\r\n",
        "    # YOUR CODE ENDS HERE\r\n",
        "\r\n",
        "    model = tf.keras.models.Sequential([\r\n",
        "            # YOUR CODE STARTS HERE\r\n",
        "            tf.keras.layers.Conv2D(64, (3,3), activation='relu', input_shape=(28, 28, 1)),\r\n",
        "            tf.keras.layers.MaxPooling2D(2, 2),\r\n",
        "            tf.keras.layers.Conv2D(64, (3,3), activation='relu'),\r\n",
        "            tf.keras.layers.MaxPooling2D(2,2),\r\n",
        "            tf.keras.layers.Flatten(),\r\n",
        "            tf.keras.layers.Dense(128, activation='relu'),\r\n",
        "            tf.keras.layers.Dense(10, activation='softmax')\r\n",
        "            # YOUR CODE ENDS HERE\r\n",
        "    ])\r\n",
        "\r\n",
        "    model.compile(optimizer='adam', loss='sparse_categorical_crossentropy', metrics=['accuracy'])\r\n",
        "    # model fitting\r\n",
        "    history = model.fit(\r\n",
        "        # YOUR CODE STARTS HERE\r\n",
        "            training_images, training_labels, epochs=20, callbacks=[callbacks]\r\n",
        "        # YOUR CODE ENDS HERE\r\n",
        "    )\r\n",
        "    # model fitting\r\n",
        "    return history.epoch, history.history['accuracy'][-1]"
      ],
      "execution_count": null,
      "outputs": []
    },
    {
      "cell_type": "code",
      "metadata": {
        "id": "2HxBLgfVzP97"
      },
      "source": [
        "_, _ = train_mnist_conv()"
      ],
      "execution_count": null,
      "outputs": []
    }
  ]
}