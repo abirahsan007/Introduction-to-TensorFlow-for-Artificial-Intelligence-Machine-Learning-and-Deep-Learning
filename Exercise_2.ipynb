{
  "nbformat": 4,
  "nbformat_minor": 0,
  "metadata": {
    "colab": {
      "name": "Exercise 2.ipynb",
      "private_outputs": true,
      "provenance": [],
      "authorship_tag": "ABX9TyNhCOmCriFO79N/6nNucpzi",
      "include_colab_link": true
    },
    "kernelspec": {
      "name": "python3",
      "display_name": "Python 3"
    }
  },
  "cells": [
    {
      "cell_type": "markdown",
      "metadata": {
        "id": "view-in-github",
        "colab_type": "text"
      },
      "source": [
        "<a href=\"https://colab.research.google.com/github/abirahsan007/Introduction-to-TensorFlow-for-Artificial-Intelligence-Machine-Learning-and-Deep-Learning/blob/main/Exercise_2.ipynb\" target=\"_parent\"><img src=\"https://colab.research.google.com/assets/colab-badge.svg\" alt=\"Open In Colab\"/></a>"
      ]
    },
    {
      "cell_type": "markdown",
      "metadata": {
        "id": "hIGH6y8MgQyi"
      },
      "source": [
        "**Exercise 2**\r\n",
        "\r\n",
        "In the course you learned how to do classificaiton using Fashion MNIST, a data set containing items of clothing. There's another, similar dataset called MNIST which has items of handwriting -- the digits 0 through 9.\r\n",
        "\r\n",
        "Write an MNIST classifier that trains to 99% accuracy or above, and does it without a fixed number of epochs -- i.e. you should stop training once you reach that level of accuracy.\r\n",
        "\r\n",
        "Some notes:\r\n",
        "\r\n",
        "  1. It should succeed in less than 10 epochs, so it is okay to change epochs=  to 10, but nothing larger\r\n",
        "  2. When it reaches 99% or greater it should print out the string \"Reached 99% accuracy so cancelling training!\"\r\n",
        "  3. If you add any additional variables, make sure you use the same names as the ones used in the class.\r\n",
        "\r\n",
        "I've started the code for you below -- how would you finish it?"
      ]
    },
    {
      "cell_type": "code",
      "metadata": {
        "id": "2UnZC0rZbxqw"
      },
      "source": [
        "import tensorflow as tf"
      ],
      "execution_count": null,
      "outputs": []
    },
    {
      "cell_type": "code",
      "metadata": {
        "id": "hTXF-FJDhI1N"
      },
      "source": [
        "# GRADED FUNCTION: train_mnist\r\n",
        "def train_mnist():\r\n",
        "    # Please write your code only where you are indicated.\r\n",
        "    # please do not remove # model fitting inline comments.\r\n",
        "\r\n",
        "    # YOUR CODE SHOULD START HERE\r\n",
        "    class myCallback(tf.keras.callbacks.Callback):\r\n",
        "        def on_epoch_end(self, epoch, logs={}):\r\n",
        "            if(logs.get('accuracy')>= 0.99):\r\n",
        "              print(\"\\nReached 99% accuracy so cancelling training!\")\r\n",
        "              self.model.stop_training = True\r\n",
        "    # YOUR CODE SHOULD END HERE\r\n",
        "\r\n",
        "    mnist = tf.keras.datasets.mnist\r\n",
        "\r\n",
        "    (x_train, y_train),(x_test, y_test) = mnist.load_data()\r\n",
        "    # YOUR CODE SHOULD START HERE\r\n",
        "    x_train, x_test = x_train / 255.0, x_test / 255.0\r\n",
        "    callbacks = myCallback()\r\n",
        "    # YOUR CODE SHOULD END HERE\r\n",
        "    model = tf.keras.models.Sequential([\r\n",
        "        # YOUR CODE SHOULD START HERE\r\n",
        "      tf.keras.layers.Flatten(input_shape=(28, 28)),\r\n",
        "      tf.keras.layers.Dense(512, activation=tf.nn.relu),\r\n",
        "      tf.keras.layers.Dense(10, activation=tf.nn.softmax)\r\n",
        "        # YOUR CODE SHOULD END HERE\r\n",
        "    ])\r\n",
        "\r\n",
        "    model.compile(optimizer='adam',\r\n",
        "                  loss='sparse_categorical_crossentropy',\r\n",
        "                  metrics=['accuracy'])\r\n",
        "    \r\n",
        "    # model fitting\r\n",
        "    history = model.fit(x_train, y_train, epochs=10, callbacks=[callbacks])\r\n",
        "    # model fitting\r\n",
        "    return history.epoch, history.history['accuracy'][-1]"
      ],
      "execution_count": null,
      "outputs": []
    },
    {
      "cell_type": "code",
      "metadata": {
        "id": "PQErUN6XhbJk"
      },
      "source": [
        "train_mnist()"
      ],
      "execution_count": null,
      "outputs": []
    }
  ]
}